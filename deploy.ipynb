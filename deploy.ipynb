{
  "cells": [
    {
      "cell_type": "code",
      "source": [
        "%matplotlib inline\r\n",
        "import numpy as np\r\n",
        "import matplotlib.pyplot as plt\r\n",
        " \r\n",
        "import azureml.core\r\n",
        "\r\n",
        "# display the core SDK version number\r\n",
        "print(\"Azure ML SDK Version: \", azureml.core.VERSION)"
      ],
      "outputs": [
        {
          "output_type": "stream",
          "name": "stdout",
          "text": [
            "Azure ML SDK Version:  1.19.0\n"
          ]
        }
      ],
      "execution_count": 60,
      "metadata": {
        "gather": {
          "logged": 1610891331426
        }
      }
    },
    {
      "cell_type": "code",
      "source": [
        "!ls $AZURE_MODEL_DIR"
      ],
      "outputs": [
        {
          "output_type": "stream",
          "name": "stdout",
          "text": [
            "data\t      deploy.ipynb.amltemp  scripts\t\t    train.py\r\n",
            "data.zip      giftboxcnn.pkl\t    training.ipynb\r\n",
            "deploy.ipynb  score.py\t\t    training.ipynb.amltemp\r\n"
          ]
        }
      ],
      "execution_count": 61,
      "metadata": {
        "collapsed": true,
        "jupyter": {
          "source_hidden": false,
          "outputs_hidden": false
        },
        "nteract": {
          "transient": {
            "deleting": false
          }
        }
      }
    },
    {
      "cell_type": "code",
      "source": [
        "%%writefile score.py\r\n",
        "import json\r\n",
        "import numpy as np\r\n",
        "import os\r\n",
        "import pickle\r\n",
        "from azureml.core.model import Model\r\n",
        "import logging\r\n",
        "import tensorflow as tf\r\n",
        "\r\n",
        "logging.basicConfig(level=logging.DEBUG)\r\n",
        "\r\n",
        "def init():\r\n",
        "    global model\r\n",
        "    # AZUREML_MODEL_DIR is an environment variable created during deployment.\r\n",
        "    # It is the path to the model folder (./azureml-models/$MODEL_NAME/$VERSION)\r\n",
        "    # For multiple models, it points to the folder containing all deployed models (./azureml-models)\r\n",
        "    # model_path = os.path.join(os.getenv('AZUREML_MODEL_DIR'), 'giftboxcnn.pkl')\r\n",
        "    model_path = Model.get_model_path(model_name='giftboxcnn2')\r\n",
        "    print(Model.get_model_path(model_name='giftboxcnn2'))\r\n",
        "    model = tf.keras.models.load_model(model_path)\r\n",
        "\r\n",
        "def run(raw_data):\r\n",
        "    data = np.array(json.loads(raw_data)['data'])\r\n",
        "    # make prediction\r\n",
        "    y_hat = model.predict(data)\r\n",
        "    # you can return any data type as long as it is JSON-serializable\r\n",
        "    return y_hat.tolist()"
      ],
      "outputs": [
        {
          "output_type": "stream",
          "name": "stdout",
          "text": [
            "Overwriting score.py\n"
          ]
        }
      ],
      "execution_count": 68,
      "metadata": {
        "collapsed": true,
        "jupyter": {
          "source_hidden": false,
          "outputs_hidden": false
        },
        "nteract": {
          "transient": {
            "deleting": false
          }
        }
      }
    },
    {
      "cell_type": "code",
      "source": [
        "from azureml.core.webservice import AciWebservice\r\n",
        "\r\n",
        "aciconfig = AciWebservice.deploy_configuration(cpu_cores=1, \r\n",
        "                                               memory_gb=1, \r\n",
        "                                               tags={\"data\": \"custom\",  \"method\" : \"keras\"}, \r\n",
        "                                               description='Predict items with keras')"
      ],
      "outputs": [],
      "execution_count": 69,
      "metadata": {
        "collapsed": true,
        "jupyter": {
          "source_hidden": false,
          "outputs_hidden": false
        },
        "nteract": {
          "transient": {
            "deleting": false
          }
        },
        "gather": {
          "logged": 1610891949596
        }
      }
    },
    {
      "cell_type": "code",
      "source": [
        "%%time\r\n",
        "import uuid\r\n",
        "from azureml.core.webservice import Webservice\r\n",
        "from azureml.core.model import InferenceConfig\r\n",
        "from azureml.core.environment import Environment\r\n",
        "from azureml.core import Workspace\r\n",
        "from azureml.core.model import Model\r\n",
        "from azureml.core.conda_dependencies import CondaDependencies\r\n",
        "\r\n",
        "ws = Workspace.from_config()\r\n",
        "model = Model(ws, 'giftboxcnn2')\r\n",
        "\r\n",
        "cd = CondaDependencies.create(pip_packages=['azureml-dataset-runtime[pandas,fuse]', 'azureml-defaults', 'joblib', 'tensorflow'])\r\n",
        "\r\n",
        "myenv = Environment(\"giftbox\")\r\n",
        "myenv.python.conda_dependencies = cd\r\n",
        "inference_config = InferenceConfig(entry_script=\"score.py\", environment=myenv)\r\n",
        "\r\n",
        "service_name = 'giftbox'\r\n",
        "service = Model.deploy(workspace=ws, \r\n",
        "                       name=service_name, \r\n",
        "                       models=[model], \r\n",
        "                       inference_config=inference_config, \r\n",
        "                       deployment_config=aciconfig,\r\n",
        "                       overwrite=True)\r\n",
        "\r\n",
        "service.wait_for_deployment(show_output=True)"
      ],
      "outputs": [
        {
          "output_type": "stream",
          "name": "stdout",
          "text": [
            "Tips: You can try get_logs(): https://aka.ms/debugimage#dockerlog or local deployment: https://aka.ms/debugimage#debug-locally to debug if deployment takes longer than 10 minutes.\n",
            "Running..................................\n",
            "Failed\n"
          ]
        },
        {
          "output_type": "stream",
          "name": "stderr",
          "text": [
            "Service deployment polling reached non-successful terminal state, current service state: Failed\n",
            "Operation ID: 36950880-fbde-413e-b92e-50dd4f0ff98f\n",
            "More information can be found using '.get_logs()'\n",
            "Error:\n",
            "{\n",
            "  \"code\": \"AciDeploymentFailed\",\n",
            "  \"message\": \"Aci Deployment failed with exception: Error in entry script, NameError: name 'tf' is not defined, please run print(service.get_logs()) to get details.\",\n",
            "  \"details\": [\n",
            "    {\n",
            "      \"code\": \"CrashLoopBackOff\",\n",
            "      \"message\": \"Error in entry script, NameError: name 'tf' is not defined, please run print(service.get_logs()) to get details.\"\n",
            "    }\n",
            "  ]\n",
            "}\n",
            "\n"
          ]
        },
        {
          "output_type": "error",
          "ename": "WebserviceException",
          "evalue": "WebserviceException:\n\tMessage: Service deployment polling reached non-successful terminal state, current service state: Failed\nOperation ID: 36950880-fbde-413e-b92e-50dd4f0ff98f\nMore information can be found using '.get_logs()'\nError:\n{\n  \"code\": \"AciDeploymentFailed\",\n  \"message\": \"Aci Deployment failed with exception: Error in entry script, NameError: name 'tf' is not defined, please run print(service.get_logs()) to get details.\",\n  \"details\": [\n    {\n      \"code\": \"CrashLoopBackOff\",\n      \"message\": \"Error in entry script, NameError: name 'tf' is not defined, please run print(service.get_logs()) to get details.\"\n    }\n  ]\n}\n\tInnerException None\n\tErrorResponse \n{\n    \"error\": {\n        \"message\": \"Service deployment polling reached non-successful terminal state, current service state: Failed\\nOperation ID: 36950880-fbde-413e-b92e-50dd4f0ff98f\\nMore information can be found using '.get_logs()'\\nError:\\n{\\n  \\\"code\\\": \\\"AciDeploymentFailed\\\",\\n  \\\"message\\\": \\\"Aci Deployment failed with exception: Error in entry script, NameError: name 'tf' is not defined, please run print(service.get_logs()) to get details.\\\",\\n  \\\"details\\\": [\\n    {\\n      \\\"code\\\": \\\"CrashLoopBackOff\\\",\\n      \\\"message\\\": \\\"Error in entry script, NameError: name 'tf' is not defined, please run print(service.get_logs()) to get details.\\\"\\n    }\\n  ]\\n}\"\n    }\n}",
          "traceback": [
            "\u001b[0;31m---------------------------------------------------------------------------\u001b[0m",
            "\u001b[0;31mWebserviceException\u001b[0m                       Traceback (most recent call last)",
            "\u001b[0;32m<timed exec>\u001b[0m in \u001b[0;36m<module>\u001b[0;34m\u001b[0m\n",
            "\u001b[0;32m/anaconda/envs/azureml_py36/lib/python3.6/site-packages/azureml/core/webservice/webservice.py\u001b[0m in \u001b[0;36mwait_for_deployment\u001b[0;34m(self, show_output, timeout_sec)\u001b[0m\n\u001b[1;32m    913\u001b[0m                                           \u001b[0;34m'Error:\\n'\u001b[0m\u001b[0;34m\u001b[0m\u001b[0;34m\u001b[0m\u001b[0m\n\u001b[1;32m    914\u001b[0m                                           '{}'.format(self.state, self._operation_endpoint.split('/')[-1],\n\u001b[0;32m--> 915\u001b[0;31m                                                       logs_response, error_response), logger=module_logger)\n\u001b[0m\u001b[1;32m    916\u001b[0m             print('{} service creation operation finished, operation \"{}\"'.format(self._webservice_type,\n\u001b[1;32m    917\u001b[0m                                                                                   operation_state))\n",
            "\u001b[0;31mWebserviceException\u001b[0m: WebserviceException:\n\tMessage: Service deployment polling reached non-successful terminal state, current service state: Failed\nOperation ID: 36950880-fbde-413e-b92e-50dd4f0ff98f\nMore information can be found using '.get_logs()'\nError:\n{\n  \"code\": \"AciDeploymentFailed\",\n  \"message\": \"Aci Deployment failed with exception: Error in entry script, NameError: name 'tf' is not defined, please run print(service.get_logs()) to get details.\",\n  \"details\": [\n    {\n      \"code\": \"CrashLoopBackOff\",\n      \"message\": \"Error in entry script, NameError: name 'tf' is not defined, please run print(service.get_logs()) to get details.\"\n    }\n  ]\n}\n\tInnerException None\n\tErrorResponse \n{\n    \"error\": {\n        \"message\": \"Service deployment polling reached non-successful terminal state, current service state: Failed\\nOperation ID: 36950880-fbde-413e-b92e-50dd4f0ff98f\\nMore information can be found using '.get_logs()'\\nError:\\n{\\n  \\\"code\\\": \\\"AciDeploymentFailed\\\",\\n  \\\"message\\\": \\\"Aci Deployment failed with exception: Error in entry script, NameError: name 'tf' is not defined, please run print(service.get_logs()) to get details.\\\",\\n  \\\"details\\\": [\\n    {\\n      \\\"code\\\": \\\"CrashLoopBackOff\\\",\\n      \\\"message\\\": \\\"Error in entry script, NameError: name 'tf' is not defined, please run print(service.get_logs()) to get details.\\\"\\n    }\\n  ]\\n}\"\n    }\n}"
          ]
        }
      ],
      "execution_count": 74,
      "metadata": {
        "collapsed": true,
        "jupyter": {
          "source_hidden": false,
          "outputs_hidden": false
        },
        "nteract": {
          "transient": {
            "deleting": false
          }
        }
      }
    },
    {
      "cell_type": "code",
      "source": [
        "print(ws.webservices)\r\n",
        "\r\n",
        "# Choose the webservice you are interested in\r\n",
        "\r\n",
        "from azureml.core import Webservice\r\n",
        "\r\n",
        "service = Webservice(ws, service_name)\r\n",
        "print(service.get_logs())"
      ],
      "outputs": [
        {
          "output_type": "stream",
          "name": "stdout",
          "text": [
            "{'giftbox': AciWebservice(workspace=Workspace.create(name='HTN', subscription_id='781c9a35-470f-41aa-8e64-1437641d34ec', resource_group='HTN'), name=giftbox, image_id=None, compute_type=None, state=ACI, scoring_uri=None, tags=None, properties={'data': 'custom', 'method': 'keras'}, created_by={'hasInferenceSchema': 'False', 'hasHttps': 'False'})}\n",
            "/usr/sbin/nginx: /azureml-envs/azureml_dfac7b83a9c2996a0077811f772ac202/lib/libcrypto.so.1.0.0: no version information available (required by /usr/sbin/nginx)\n",
            "/usr/sbin/nginx: /azureml-envs/azureml_dfac7b83a9c2996a0077811f772ac202/lib/libcrypto.so.1.0.0: no version information available (required by /usr/sbin/nginx)\n",
            "/usr/sbin/nginx: /azureml-envs/azureml_dfac7b83a9c2996a0077811f772ac202/lib/libssl.so.1.0.0: no version information available (required by /usr/sbin/nginx)\n",
            "/usr/sbin/nginx: /azureml-envs/azureml_dfac7b83a9c2996a0077811f772ac202/lib/libssl.so.1.0.0: no version information available (required by /usr/sbin/nginx)\n",
            "/usr/sbin/nginx: /azureml-envs/azureml_dfac7b83a9c2996a0077811f772ac202/lib/libssl.so.1.0.0: no version information available (required by /usr/sbin/nginx)\n",
            "2021-01-17T14:06:58,542614136+00:00 - iot-server/run \n",
            "2021-01-17T14:06:58,543258930+00:00 - gunicorn/run \n",
            "2021-01-17T14:06:58,549742369+00:00 - nginx/run \n",
            "2021-01-17T14:06:58,558508587+00:00 - rsyslog/run \n",
            "EdgeHubConnectionString and IOTEDGE_IOTHUBHOSTNAME are not set. Exiting...\n",
            "2021-01-17T14:06:58,662240315+00:00 - iot-server/finish 1 0\n",
            "2021-01-17T14:06:58,663728101+00:00 - Exit code 1 is normal. Not restarting iot-server.\n",
            "Starting gunicorn 19.9.0\n",
            "Listening at: http://127.0.0.1:31311 (12)\n",
            "Using worker: sync\n",
            "worker timeout is set to 300\n",
            "Booting worker with pid: 39\n",
            "2021-01-17 14:07:00.007023: W tensorflow/stream_executor/platform/default/dso_loader.cc:60] Could not load dynamic library 'libcudart.so.11.0'; dlerror: libcudart.so.11.0: cannot open shared object file: No such file or directory; LD_LIBRARY_PATH: /azureml-envs/azureml_dfac7b83a9c2996a0077811f772ac202/lib:/azureml-envs/azureml_dfac7b83a9c2996a0077811f772ac202/lib:\n",
            "2021-01-17 14:07:00.007074: I tensorflow/stream_executor/cuda/cudart_stub.cc:29] Ignore above cudart dlerror if you do not have a GPU set up on your machine.\n",
            "SPARK_HOME not set. Skipping PySpark Initialization.\n",
            "Initializing logger\n",
            "2021-01-17 14:07:01,777 | root | INFO | Starting up app insights client\n",
            "Starting up app insights client\n",
            "2021-01-17 14:07:01,778 | root | INFO | Starting up request id generator\n",
            "Starting up request id generator\n",
            "2021-01-17 14:07:01,778 | root | INFO | Starting up app insight hooks\n",
            "Starting up app insight hooks\n",
            "2021-01-17 14:07:01,778 | root | INFO | Invoking user's init function\n",
            "Invoking user's init function\n",
            "2021-01-17 14:07:01.804555: I tensorflow/compiler/jit/xla_cpu_device.cc:41] Not creating XLA devices, tf_xla_enable_xla_devices not set\n",
            "2021-01-17 14:07:01.804775: W tensorflow/stream_executor/platform/default/dso_loader.cc:60] Could not load dynamic library 'libcuda.so.1'; dlerror: libcuda.so.1: cannot open shared object file: No such file or directory; LD_LIBRARY_PATH: /azureml-envs/azureml_dfac7b83a9c2996a0077811f772ac202/lib:/azureml-envs/azureml_dfac7b83a9c2996a0077811f772ac202/lib:\n",
            "2021-01-17 14:07:01.804813: W tensorflow/stream_executor/cuda/cuda_driver.cc:326] failed call to cuInit: UNKNOWN ERROR (303)\n",
            "2021-01-17 14:07:01.804834: I tensorflow/stream_executor/cuda/cuda_diagnostics.cc:156] kernel driver does not appear to be running on this host (wk-caas-e51c50505d4e4c9587ab3c6ea37121d9-66f08d872ebfdfc9d318a5): /proc/driver/nvidia/version does not exist\n",
            "2021-01-17 14:07:01.805107: I tensorflow/compiler/jit/xla_gpu_device.cc:99] Not creating XLA devices, tf_xla_enable_xla_devices not set\n",
            "azureml-models/giftboxcnn2/1/giftboxcnn.model\n",
            "2021-01-17 14:07:02,581 | root | ERROR | User's init function failed\n",
            "User's init function failed\n",
            "2021-01-17 14:07:02,584 | root | ERROR | Encountered Exception Traceback (most recent call last):\n",
            "  File \"/var/azureml-server/aml_blueprint.py\", line 177, in register\n",
            "    main.init()\n",
            "  File \"/var/azureml-app/score.py\", line 19, in init\n",
            "    model = tf.keras.models.load_model(model_path)\n",
            "  File \"/azureml-envs/azureml_dfac7b83a9c2996a0077811f772ac202/lib/python3.6/site-packages/tensorflow/python/keras/saving/save.py\", line 212, in load_model\n",
            "    return saved_model_load.load(filepath, compile, options)\n",
            "  File \"/azureml-envs/azureml_dfac7b83a9c2996a0077811f772ac202/lib/python3.6/site-packages/tensorflow/python/keras/saving/saved_model/load.py\", line 147, in load\n",
            "    keras_loader.finalize_objects()\n",
            "  File \"/azureml-envs/azureml_dfac7b83a9c2996a0077811f772ac202/lib/python3.6/site-packages/tensorflow/python/keras/saving/saved_model/load.py\", line 600, in finalize_objects\n",
            "    self._reconstruct_all_models()\n",
            "  File \"/azureml-envs/azureml_dfac7b83a9c2996a0077811f772ac202/lib/python3.6/site-packages/tensorflow/python/keras/saving/saved_model/load.py\", line 619, in _reconstruct_all_models\n",
            "    self._reconstruct_model(model_id, model, layers)\n",
            "  File \"/azureml-envs/azureml_dfac7b83a9c2996a0077811f772ac202/lib/python3.6/site-packages/tensorflow/python/keras/saving/saved_model/load.py\", line 666, in _reconstruct_model\n",
            "    config, created_layers={layer.name: layer for layer in layers})\n",
            "  File \"/azureml-envs/azureml_dfac7b83a9c2996a0077811f772ac202/lib/python3.6/site-packages/tensorflow/python/keras/engine/functional.py\", line 1285, in reconstruct_from_config\n",
            "    process_node(layer, node_data)\n",
            "  File \"/azureml-envs/azureml_dfac7b83a9c2996a0077811f772ac202/lib/python3.6/site-packages/tensorflow/python/keras/engine/functional.py\", line 1233, in process_node\n",
            "    output_tensors = layer(input_tensors, **kwargs)\n",
            "  File \"/azureml-envs/azureml_dfac7b83a9c2996a0077811f772ac202/lib/python3.6/site-packages/tensorflow/python/keras/engine/base_layer.py\", line 952, in __call__\n",
            "    input_list)\n",
            "  File \"/azureml-envs/azureml_dfac7b83a9c2996a0077811f772ac202/lib/python3.6/site-packages/tensorflow/python/keras/engine/base_layer.py\", line 1091, in _functional_construction_call\n",
            "    inputs, input_masks, args, kwargs)\n",
            "  File \"/azureml-envs/azureml_dfac7b83a9c2996a0077811f772ac202/lib/python3.6/site-packages/tensorflow/python/keras/engine/base_layer.py\", line 822, in _keras_tensor_symbolic_call\n",
            "    return self._infer_output_signature(inputs, args, kwargs, input_masks)\n",
            "  File \"/azureml-envs/azureml_dfac7b83a9c2996a0077811f772ac202/lib/python3.6/site-packages/tensorflow/python/keras/engine/base_layer.py\", line 863, in _infer_output_signature\n",
            "    outputs = call_fn(inputs, *args, **kwargs)\n",
            "  File \"/azureml-envs/azureml_dfac7b83a9c2996a0077811f772ac202/lib/python3.6/site-packages/tensorflow/python/keras/layers/core.py\", line 917, in call\n",
            "    result = self.function(inputs, **kwargs)\n",
            "  File \"train.py\", line 29, in image_process\n",
            "NameError: name 'tf' is not defined\n",
            "\n",
            "Encountered Exception Traceback (most recent call last):\n",
            "  File \"/var/azureml-server/aml_blueprint.py\", line 177, in register\n",
            "    main.init()\n",
            "  File \"/var/azureml-app/score.py\", line 19, in init\n",
            "    model = tf.keras.models.load_model(model_path)\n",
            "  File \"/azureml-envs/azureml_dfac7b83a9c2996a0077811f772ac202/lib/python3.6/site-packages/tensorflow/python/keras/saving/save.py\", line 212, in load_model\n",
            "    return saved_model_load.load(filepath, compile, options)\n",
            "  File \"/azureml-envs/azureml_dfac7b83a9c2996a0077811f772ac202/lib/python3.6/site-packages/tensorflow/python/keras/saving/saved_model/load.py\", line 147, in load\n",
            "    keras_loader.finalize_objects()\n",
            "  File \"/azureml-envs/azureml_dfac7b83a9c2996a0077811f772ac202/lib/python3.6/site-packages/tensorflow/python/keras/saving/saved_model/load.py\", line 600, in finalize_objects\n",
            "    self._reconstruct_all_models()\n",
            "  File \"/azureml-envs/azureml_dfac7b83a9c2996a0077811f772ac202/lib/python3.6/site-packages/tensorflow/python/keras/saving/saved_model/load.py\", line 619, in _reconstruct_all_models\n",
            "    self._reconstruct_model(model_id, model, layers)\n",
            "  File \"/azureml-envs/azureml_dfac7b83a9c2996a0077811f772ac202/lib/python3.6/site-packages/tensorflow/python/keras/saving/saved_model/load.py\", line 666, in _reconstruct_model\n",
            "    config, created_layers={layer.name: layer for layer in layers})\n",
            "  File \"/azureml-envs/azureml_dfac7b83a9c2996a0077811f772ac202/lib/python3.6/site-packages/tensorflow/python/keras/engine/functional.py\", line 1285, in reconstruct_from_config\n",
            "    process_node(layer, node_data)\n",
            "  File \"/azureml-envs/azureml_dfac7b83a9c2996a0077811f772ac202/lib/python3.6/site-packages/tensorflow/python/keras/engine/functional.py\", line 1233, in process_node\n",
            "    output_tensors = layer(input_tensors, **kwargs)\n",
            "  File \"/azureml-envs/azureml_dfac7b83a9c2996a0077811f772ac202/lib/python3.6/site-packages/tensorflow/python/keras/engine/base_layer.py\", line 952, in __call__\n",
            "    input_list)\n",
            "  File \"/azureml-envs/azureml_dfac7b83a9c2996a0077811f772ac202/lib/python3.6/site-packages/tensorflow/python/keras/engine/base_layer.py\", line 1091, in _functional_construction_call\n",
            "    inputs, input_masks, args, kwargs)\n",
            "  File \"/azureml-envs/azureml_dfac7b83a9c2996a0077811f772ac202/lib/python3.6/site-packages/tensorflow/python/keras/engine/base_layer.py\", line 822, in _keras_tensor_symbolic_call\n",
            "    return self._infer_output_signature(inputs, args, kwargs, input_masks)\n",
            "  File \"/azureml-envs/azureml_dfac7b83a9c2996a0077811f772ac202/lib/python3.6/site-packages/tensorflow/python/keras/engine/base_layer.py\", line 863, in _infer_output_signature\n",
            "    outputs = call_fn(inputs, *args, **kwargs)\n",
            "  File \"/azureml-envs/azureml_dfac7b83a9c2996a0077811f772ac202/lib/python3.6/site-packages/tensorflow/python/keras/layers/core.py\", line 917, in call\n",
            "    result = self.function(inputs, **kwargs)\n",
            "  File \"train.py\", line 29, in image_process\n",
            "NameError: name 'tf' is not defined\n",
            "\n",
            "Worker exiting (pid: 39)\n",
            "Shutting down: Master\n",
            "Reason: Worker failed to boot.\n",
            "2021-01-17T14:07:02,961105892+00:00 - gunicorn/finish 3 0\n",
            "2021-01-17T14:07:02,962476079+00:00 - Exit code 3 is not normal. Killing image.\n",
            "\n"
          ]
        }
      ],
      "execution_count": 75,
      "metadata": {
        "collapsed": true,
        "jupyter": {
          "source_hidden": false,
          "outputs_hidden": false
        },
        "nteract": {
          "transient": {
            "deleting": false
          }
        },
        "gather": {
          "logged": 1610892447427
        }
      }
    },
    {
      "cell_type": "code",
      "source": [
        "print(service.scoring_uri)"
      ],
      "outputs": [],
      "execution_count": null,
      "metadata": {
        "collapsed": true,
        "jupyter": {
          "source_hidden": false,
          "outputs_hidden": false
        },
        "nteract": {
          "transient": {
            "deleting": false
          }
        }
      }
    }
  ],
  "metadata": {
    "kernelspec": {
      "name": "python3-azureml",
      "language": "python",
      "display_name": "Python 3.6 - AzureML"
    },
    "language_info": {
      "name": "python",
      "version": "3.6.9",
      "mimetype": "text/x-python",
      "codemirror_mode": {
        "name": "ipython",
        "version": 3
      },
      "pygments_lexer": "ipython3",
      "nbconvert_exporter": "python",
      "file_extension": ".py"
    },
    "kernel_info": {
      "name": "python3-azureml"
    },
    "nteract": {
      "version": "nteract-front-end@1.0.0"
    }
  },
  "nbformat": 4,
  "nbformat_minor": 2
}